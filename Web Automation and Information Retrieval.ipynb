{
 "cells": [
  {
   "cell_type": "markdown",
   "metadata": {},
   "source": [
    "# Web Automation and Information Retrieval with Python / Automação Web e Busca de Informações com Python\n",
    "\n",
    "#### Challenge / Desafio: \n",
    "\n",
    "We work for an import company, and the prices of our products are linked to the exchange rates of:\n",
    "Trabalhamos em uma importadora e o preço dos nossos produtos é vinculado a cotação de:\n",
    "\n",
    "- Dólar\n",
    "- Euro\n",
    "\n",
    "We need to automatically fetch the exchange rates for these currencies from the internet and calculate the prices we should charge for our products, considering a profit margin that we have in our database.\n",
    "\n",
    "Precisamos pegar na internet, de forma automática, a cotação desses 3 itens e saber quanto devemos cobrar pelos nossos produtos, considerando uma margem de contribuição que temos na nossa base de dados.\n",
    "\n",
    "\n",
    "DataBase / Base de Dados: https://drive.google.com/drive/folders/1KmAdo593nD8J9QBaZxPOG1yxHZua4Rtv?usp=sharing"
   ]
  },
  {
   "cell_type": "code",
   "execution_count": 46,
   "metadata": {},
   "outputs": [
    {
     "name": "stdout",
     "output_type": "stream",
     "text": [
      "Dolar compra :5.2866\n",
      "Euro compra :5.7476\n"
     ]
    }
   ],
   "source": [
    "import requests\n",
    "import json\n",
    "\n",
    "#import the prices with API/ importa os valores com API\n",
    "cotacoes = requests.get('https://economia.awesomeapi.com.br/json/All')\n",
    "cotacoes_dic = cotacoes.json()\n",
    "#print(cotacoes_dic)\n",
    "\n",
    "cotacao_dolar=cotacoes_dic['USD']['bid']\n",
    "cotacao_euro = cotacoes_dic['EUR']['bid']\n",
    "\n",
    "\n",
    "print('Dolar compra :{}'.format(cotacao_dolar))\n",
    "print('Euro compra :{}'.format(cotacao_euro))\n"
   ]
  },
  {
   "cell_type": "markdown",
   "metadata": {},
   "source": [
    "### Agora vamos atualizar a nossa base de preços com as novas cotações"
   ]
  },
  {
   "cell_type": "markdown",
   "metadata": {},
   "source": [
    "- Importando a base de dados"
   ]
  },
  {
   "cell_type": "code",
   "execution_count": 43,
   "metadata": {
    "scrolled": true
   },
   "outputs": [
    {
     "data": {
      "text/html": [
       "<div>\n",
       "<style scoped>\n",
       "    .dataframe tbody tr th:only-of-type {\n",
       "        vertical-align: middle;\n",
       "    }\n",
       "\n",
       "    .dataframe tbody tr th {\n",
       "        vertical-align: top;\n",
       "    }\n",
       "\n",
       "    .dataframe thead th {\n",
       "        text-align: right;\n",
       "    }\n",
       "</style>\n",
       "<table border=\"1\" class=\"dataframe\">\n",
       "  <thead>\n",
       "    <tr style=\"text-align: right;\">\n",
       "      <th></th>\n",
       "      <th>Produtos</th>\n",
       "      <th>Preço Original</th>\n",
       "      <th>Moeda</th>\n",
       "      <th>Cotação</th>\n",
       "      <th>Preço de Compra</th>\n",
       "      <th>Margem</th>\n",
       "      <th>Preço de Venda</th>\n",
       "    </tr>\n",
       "  </thead>\n",
       "  <tbody>\n",
       "    <tr>\n",
       "      <th>0</th>\n",
       "      <td>Câmera Canon</td>\n",
       "      <td>999.99</td>\n",
       "      <td>Dólar</td>\n",
       "      <td>5</td>\n",
       "      <td>4999.95</td>\n",
       "      <td>1.4</td>\n",
       "      <td>6999.930</td>\n",
       "    </tr>\n",
       "    <tr>\n",
       "      <th>1</th>\n",
       "      <td>Carro Renault</td>\n",
       "      <td>4500.00</td>\n",
       "      <td>Euro</td>\n",
       "      <td>6</td>\n",
       "      <td>27000.00</td>\n",
       "      <td>2.0</td>\n",
       "      <td>54000.000</td>\n",
       "    </tr>\n",
       "    <tr>\n",
       "      <th>2</th>\n",
       "      <td>Notebook Dell</td>\n",
       "      <td>899.99</td>\n",
       "      <td>Dólar</td>\n",
       "      <td>5</td>\n",
       "      <td>4499.95</td>\n",
       "      <td>1.7</td>\n",
       "      <td>7649.915</td>\n",
       "    </tr>\n",
       "    <tr>\n",
       "      <th>3</th>\n",
       "      <td>IPhone</td>\n",
       "      <td>799.00</td>\n",
       "      <td>Dólar</td>\n",
       "      <td>5</td>\n",
       "      <td>3995.00</td>\n",
       "      <td>1.7</td>\n",
       "      <td>6791.500</td>\n",
       "    </tr>\n",
       "    <tr>\n",
       "      <th>4</th>\n",
       "      <td>Carro Fiat</td>\n",
       "      <td>3000.00</td>\n",
       "      <td>Euro</td>\n",
       "      <td>6</td>\n",
       "      <td>18000.00</td>\n",
       "      <td>1.9</td>\n",
       "      <td>34200.000</td>\n",
       "    </tr>\n",
       "    <tr>\n",
       "      <th>5</th>\n",
       "      <td>Celular Xiaomi</td>\n",
       "      <td>480.48</td>\n",
       "      <td>Dólar</td>\n",
       "      <td>5</td>\n",
       "      <td>2402.40</td>\n",
       "      <td>2.0</td>\n",
       "      <td>4804.800</td>\n",
       "    </tr>\n",
       "  </tbody>\n",
       "</table>\n",
       "</div>"
      ],
      "text/plain": [
       "         Produtos  Preço Original  Moeda  Cotação  Preço de Compra  Margem  \\\n",
       "0    Câmera Canon          999.99  Dólar        5          4999.95     1.4   \n",
       "1   Carro Renault         4500.00   Euro        6         27000.00     2.0   \n",
       "2   Notebook Dell          899.99  Dólar        5          4499.95     1.7   \n",
       "3          IPhone          799.00  Dólar        5          3995.00     1.7   \n",
       "4      Carro Fiat         3000.00   Euro        6         18000.00     1.9   \n",
       "5  Celular Xiaomi          480.48  Dólar        5          2402.40     2.0   \n",
       "\n",
       "   Preço de Venda  \n",
       "0        6999.930  \n",
       "1       54000.000  \n",
       "2        7649.915  \n",
       "3        6791.500  \n",
       "4       34200.000  \n",
       "5        4804.800  "
      ]
     },
     "metadata": {},
     "output_type": "display_data"
    }
   ],
   "source": [
    "# Import the data base using pandas/ importar a lista de produtos\n",
    "import pandas as pd\n",
    "\n",
    "tabela = pd.read_excel(\"Produtos.xlsx\")\n",
    "display(tabela)"
   ]
  },
  {
   "cell_type": "markdown",
   "metadata": {},
   "source": [
    "- Atualizando os preços e o cálculo do Preço Final"
   ]
  },
  {
   "cell_type": "code",
   "execution_count": 44,
   "metadata": {
    "scrolled": false
   },
   "outputs": [
    {
     "data": {
      "text/html": [
       "<div>\n",
       "<style scoped>\n",
       "    .dataframe tbody tr th:only-of-type {\n",
       "        vertical-align: middle;\n",
       "    }\n",
       "\n",
       "    .dataframe tbody tr th {\n",
       "        vertical-align: top;\n",
       "    }\n",
       "\n",
       "    .dataframe thead th {\n",
       "        text-align: right;\n",
       "    }\n",
       "</style>\n",
       "<table border=\"1\" class=\"dataframe\">\n",
       "  <thead>\n",
       "    <tr style=\"text-align: right;\">\n",
       "      <th></th>\n",
       "      <th>Produtos</th>\n",
       "      <th>Preço Original</th>\n",
       "      <th>Moeda</th>\n",
       "      <th>Cotação</th>\n",
       "      <th>Preço de Compra</th>\n",
       "      <th>Margem</th>\n",
       "      <th>Preço de Venda</th>\n",
       "    </tr>\n",
       "  </thead>\n",
       "  <tbody>\n",
       "    <tr>\n",
       "      <th>0</th>\n",
       "      <td>Câmera Canon</td>\n",
       "      <td>999.99</td>\n",
       "      <td>Dólar</td>\n",
       "      <td>R$ 5.29</td>\n",
       "      <td>R$ 5,287.55</td>\n",
       "      <td>1.4</td>\n",
       "      <td>R$ 7,402.57</td>\n",
       "    </tr>\n",
       "    <tr>\n",
       "      <th>1</th>\n",
       "      <td>Carro Renault</td>\n",
       "      <td>4500.00</td>\n",
       "      <td>Euro</td>\n",
       "      <td>R$ 5.75</td>\n",
       "      <td>R$ 25,864.20</td>\n",
       "      <td>2.0</td>\n",
       "      <td>R$ 51,728.40</td>\n",
       "    </tr>\n",
       "    <tr>\n",
       "      <th>2</th>\n",
       "      <td>Notebook Dell</td>\n",
       "      <td>899.99</td>\n",
       "      <td>Dólar</td>\n",
       "      <td>R$ 5.29</td>\n",
       "      <td>R$ 4,758.79</td>\n",
       "      <td>1.7</td>\n",
       "      <td>R$ 8,089.94</td>\n",
       "    </tr>\n",
       "    <tr>\n",
       "      <th>3</th>\n",
       "      <td>IPhone</td>\n",
       "      <td>799.00</td>\n",
       "      <td>Dólar</td>\n",
       "      <td>R$ 5.29</td>\n",
       "      <td>R$ 4,224.79</td>\n",
       "      <td>1.7</td>\n",
       "      <td>R$ 7,182.15</td>\n",
       "    </tr>\n",
       "    <tr>\n",
       "      <th>4</th>\n",
       "      <td>Carro Fiat</td>\n",
       "      <td>3000.00</td>\n",
       "      <td>Euro</td>\n",
       "      <td>R$ 5.75</td>\n",
       "      <td>R$ 17,242.80</td>\n",
       "      <td>1.9</td>\n",
       "      <td>R$ 32,761.32</td>\n",
       "    </tr>\n",
       "    <tr>\n",
       "      <th>5</th>\n",
       "      <td>Celular Xiaomi</td>\n",
       "      <td>480.48</td>\n",
       "      <td>Dólar</td>\n",
       "      <td>R$ 5.29</td>\n",
       "      <td>R$ 2,540.59</td>\n",
       "      <td>2.0</td>\n",
       "      <td>R$ 5,081.17</td>\n",
       "    </tr>\n",
       "  </tbody>\n",
       "</table>\n",
       "</div>"
      ],
      "text/plain": [
       "         Produtos  Preço Original  Moeda  Cotação Preço de Compra  Margem  \\\n",
       "0    Câmera Canon          999.99  Dólar  R$ 5.29     R$ 5,287.55     1.4   \n",
       "1   Carro Renault         4500.00   Euro  R$ 5.75    R$ 25,864.20     2.0   \n",
       "2   Notebook Dell          899.99  Dólar  R$ 5.29     R$ 4,758.79     1.7   \n",
       "3          IPhone          799.00  Dólar  R$ 5.29     R$ 4,224.79     1.7   \n",
       "4      Carro Fiat         3000.00   Euro  R$ 5.75    R$ 17,242.80     1.9   \n",
       "5  Celular Xiaomi          480.48  Dólar  R$ 5.29     R$ 2,540.59     2.0   \n",
       "\n",
       "  Preço de Venda  \n",
       "0    R$ 7,402.57  \n",
       "1   R$ 51,728.40  \n",
       "2    R$ 8,089.94  \n",
       "3    R$ 7,182.15  \n",
       "4   R$ 32,761.32  \n",
       "5    R$ 5,081.17  "
      ]
     },
     "metadata": {},
     "output_type": "display_data"
    }
   ],
   "source": [
    "# Calculate the new price of each product/ Recalcular o preço de cada produto\n",
    "# Update the cotation / atualizar a cotação\n",
    "# For the lines dolar or euro in the column \"moedas\" /  nas linhas onde na coluna \"Moeda\" = Dólar e Euro\n",
    "tabela.loc[tabela[\"Moeda\"] == \"Dólar\", \"Cotação\"] = float(cotacao_dolar)\n",
    "tabela.loc[tabela[\"Moeda\"] == \"Euro\", \"Cotação\"] = float(cotacao_euro)\n",
    "\n",
    "# Update the price in Reais / atualizar o preço base reais (preço base original * cotação)\n",
    "tabela[\"Preço de Compra\"] = tabela[\"Preço Original\"] * tabela[\"Cotação\"]\n",
    "\n",
    "# Update the final price / atualizar o preço final (preço base reais * Margem)\n",
    "tabela[\"Preço de Venda\"] = tabela[\"Preço de Compra\"] * tabela[\"Margem\"]\n",
    "\n",
    "\n",
    "tabela[\"Cotação\"] = tabela[\"Cotação\"].map(\"R$ {:,.2f}\".format)\n",
    "tabela[\"Preço de Compra\"] = tabela[\"Preço de Compra\"].map(\"R$ {:,.2f}\".format)\n",
    "tabela[\"Preço de Venda\"] = tabela[\"Preço de Venda\"].map(\"R$ {:,.2f}\".format)\n",
    "\n",
    "display(tabela)"
   ]
  },
  {
   "cell_type": "markdown",
   "metadata": {},
   "source": [
    "### Agora vamos exportar a nova base de preços atualizada"
   ]
  },
  {
   "cell_type": "code",
   "execution_count": 45,
   "metadata": {},
   "outputs": [],
   "source": [
    "# Passo 6: Salvar os novos preços dos produtos\n",
    "tabela.to_excel(\"Produtos Novo.xlsx\", index=False)"
   ]
  }
 ],
 "metadata": {
  "kernelspec": {
   "display_name": "Python 3 (ipykernel)",
   "language": "python",
   "name": "python3"
  },
  "language_info": {
   "codemirror_mode": {
    "name": "ipython",
    "version": 3
   },
   "file_extension": ".py",
   "mimetype": "text/x-python",
   "name": "python",
   "nbconvert_exporter": "python",
   "pygments_lexer": "ipython3",
   "version": "3.9.13"
  }
 },
 "nbformat": 4,
 "nbformat_minor": 4
}
